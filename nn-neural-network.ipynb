{
 "cells": [
  {
   "cell_type": "code",
   "execution_count": 1,
   "metadata": {},
   "outputs": [],
   "source": [
    "import torch.nn as nn\n",
    "import torch\n",
    "import numpy as np"
   ]
  },
  {
   "cell_type": "code",
   "execution_count": 2,
   "metadata": {},
   "outputs": [],
   "source": [
    "# Input (temp, rainfall, humidity)\n",
    "inputs = np.array([[73, 67, 43], \n",
    "                   [91, 88, 64], \n",
    "                   [87, 134, 58], \n",
    "                   [102, 43, 37], \n",
    "                   [69, 96, 70], \n",
    "                   [74, 66, 43], \n",
    "                   [91, 87, 65], \n",
    "                   [88, 134, 59], \n",
    "                   [101, 44, 37], \n",
    "                   [68, 96, 71], \n",
    "                   [73, 66, 44], \n",
    "                   [92, 87, 64], \n",
    "                   [87, 135, 57], \n",
    "                   [103, 43, 36], \n",
    "                   [68, 97, 70]], \n",
    "                  dtype='float32')\n",
    "\n",
    "# Targets (apples, oranges)\n",
    "targets = np.array([[56, 70], \n",
    "                    [81, 101], \n",
    "                    [119, 133], \n",
    "                    [22, 37], \n",
    "                    [103, 119],\n",
    "                    [57, 69], \n",
    "                    [80, 102], \n",
    "                    [118, 132], \n",
    "                    [21, 38], \n",
    "                    [104, 118], \n",
    "                    [57, 69], \n",
    "                    [82, 100], \n",
    "                    [118, 134], \n",
    "                    [20, 38], \n",
    "                    [102, 120]], \n",
    "                   dtype='float32')\n",
    "\n",
    "inputs = torch.from_numpy(inputs)\n",
    "targets = torch.from_numpy(targets)"
   ]
  },
  {
   "cell_type": "code",
   "execution_count": null,
   "metadata": {},
   "outputs": [],
   "source": []
  },
  {
   "cell_type": "code",
   "execution_count": null,
   "metadata": {},
   "outputs": [],
   "source": []
  },
  {
   "cell_type": "code",
   "execution_count": 3,
   "metadata": {},
   "outputs": [],
   "source": [
    "from torch.utils.data import DataLoader\n",
    "from torch.utils.data import TensorDataset"
   ]
  },
  {
   "cell_type": "code",
   "execution_count": 4,
   "metadata": {},
   "outputs": [],
   "source": [
    "# Define dataset\n",
    "train_ds = TensorDataset(inputs, targets)\n",
    "train_ds[0:3]\n",
    "# Define data loader\n",
    "batch_size = 5\n",
    "train_dl = DataLoader(train_ds, batch_size, shuffle=True)\n"
   ]
  },
  {
   "cell_type": "code",
   "execution_count": 5,
   "metadata": {},
   "outputs": [],
   "source": [
    "# Define data loader\n",
    "batch_size = 5\n",
    "train_dl = DataLoader(train_ds, batch_size, shuffle=True)"
   ]
  },
  {
   "cell_type": "code",
   "execution_count": 6,
   "metadata": {},
   "outputs": [
    {
     "data": {
      "text/plain": [
       "<torch.utils.data.dataloader.DataLoader at 0x1042bfa60>"
      ]
     },
     "execution_count": 6,
     "metadata": {},
     "output_type": "execute_result"
    }
   ],
   "source": [
    "train_dl"
   ]
  },
  {
   "cell_type": "code",
   "execution_count": 7,
   "metadata": {},
   "outputs": [
    {
     "name": "stdout",
     "output_type": "stream",
     "text": [
      "tensor([[ 68.,  97.,  70.],\n",
      "        [ 87., 134.,  58.],\n",
      "        [103.,  43.,  36.],\n",
      "        [ 69.,  96.,  70.],\n",
      "        [ 87., 135.,  57.]])\n",
      "tensor([[102., 120.],\n",
      "        [119., 133.],\n",
      "        [ 20.,  38.],\n",
      "        [103., 119.],\n",
      "        [118., 134.]])\n"
     ]
    }
   ],
   "source": [
    "for xb, yb in train_dl:\n",
    "    print(xb)\n",
    "    print(yb)\n",
    "    break"
   ]
  },
  {
   "cell_type": "code",
   "execution_count": 8,
   "metadata": {},
   "outputs": [
    {
     "name": "stdout",
     "output_type": "stream",
     "text": [
      "Parameter containing:\n",
      "tensor([[ 0.0132,  0.0824, -0.4854],\n",
      "        [ 0.2142, -0.3008,  0.4898]], requires_grad=True)\n",
      "Parameter containing:\n",
      "tensor([-0.4399, -0.2923], requires_grad=True)\n"
     ]
    }
   ],
   "source": [
    "# Define model\n",
    "model = nn.Linear(3, 2)\n",
    "print(model.weight)\n",
    "print(model.bias)"
   ]
  },
  {
   "cell_type": "code",
   "execution_count": 9,
   "metadata": {},
   "outputs": [
    {
     "data": {
      "text/plain": [
       "[Parameter containing:\n",
       " tensor([[ 0.0132,  0.0824, -0.4854],\n",
       "         [ 0.2142, -0.3008,  0.4898]], requires_grad=True),\n",
       " Parameter containing:\n",
       " tensor([-0.4399, -0.2923], requires_grad=True)]"
      ]
     },
     "execution_count": 9,
     "metadata": {},
     "output_type": "execute_result"
    }
   ],
   "source": [
    "# Parameters\n",
    "list(model.parameters())"
   ]
  },
  {
   "cell_type": "code",
   "execution_count": 10,
   "metadata": {},
   "outputs": [
    {
     "data": {
      "text/plain": [
       "[Parameter containing:\n",
       " tensor([[ 0.0132,  0.0824, -0.4854],\n",
       "         [ 0.2142, -0.3008,  0.4898]], requires_grad=True),\n",
       " Parameter containing:\n",
       " tensor([-0.4399, -0.2923], requires_grad=True)]"
      ]
     },
     "execution_count": 10,
     "metadata": {},
     "output_type": "execute_result"
    }
   ],
   "source": [
    "# Parameters\n",
    "list(model.parameters())"
   ]
  },
  {
   "cell_type": "code",
   "execution_count": 11,
   "metadata": {},
   "outputs": [
    {
     "data": {
      "text/plain": [
       "tensor([[-14.8275,  16.2507],\n",
       "        [-23.0524,  24.0746],\n",
       "        [-16.4014,   6.4423],\n",
       "        [-13.5119,  26.7431],\n",
       "        [-25.5947,  19.8944],\n",
       "        [-14.8968,  16.7657],\n",
       "        [-23.6202,  24.8651],\n",
       "        [-16.8736,   7.1462],\n",
       "        [-13.4426,  26.2281],\n",
       "        [-26.0933,  20.1699],\n",
       "        [-15.3953,  17.0412],\n",
       "        [-23.1217,  24.5896],\n",
       "        [-15.8336,   5.6517],\n",
       "        [-13.0134,  26.4675],\n",
       "        [-25.5255,  19.3794]], grad_fn=<AddmmBackward0>)"
      ]
     },
     "execution_count": 11,
     "metadata": {},
     "output_type": "execute_result"
    }
   ],
   "source": [
    "# Generate predictions\n",
    "preds = model(inputs)\n",
    "preds"
   ]
  },
  {
   "cell_type": "code",
   "execution_count": 14,
   "metadata": {},
   "outputs": [
    {
     "name": "stdout",
     "output_type": "stream",
     "text": [
      "[Parameter containing:\n",
      "tensor([[ 0.0132,  0.0824, -0.4854],\n",
      "        [ 0.2142, -0.3008,  0.4898]], requires_grad=True), Parameter containing:\n",
      "tensor([-0.4399, -0.2923], requires_grad=True)]\n"
     ]
    }
   ],
   "source": [
    "print(list(model.parameters()))"
   ]
  },
  {
   "cell_type": "code",
   "execution_count": 15,
   "metadata": {},
   "outputs": [
    {
     "data": {
      "text/plain": [
       "tensor([[-14.8275,  16.2507],\n",
       "        [-23.0524,  24.0746],\n",
       "        [-16.4014,   6.4423],\n",
       "        [-13.5119,  26.7431],\n",
       "        [-25.5947,  19.8944],\n",
       "        [-14.8968,  16.7657],\n",
       "        [-23.6202,  24.8651],\n",
       "        [-16.8736,   7.1462],\n",
       "        [-13.4426,  26.2281],\n",
       "        [-26.0933,  20.1699],\n",
       "        [-15.3953,  17.0412],\n",
       "        [-23.1217,  24.5896],\n",
       "        [-15.8336,   5.6517],\n",
       "        [-13.0134,  26.4675],\n",
       "        [-25.5255,  19.3794]], grad_fn=<AddmmBackward0>)"
      ]
     },
     "execution_count": 15,
     "metadata": {},
     "output_type": "execute_result"
    }
   ],
   "source": [
    "# Generate predictions\n",
    "preds = model(inputs)\n",
    "preds"
   ]
  },
  {
   "cell_type": "code",
   "execution_count": 16,
   "metadata": {},
   "outputs": [],
   "source": [
    "# Import nn.functional\n",
    "import torch.nn.functional as F"
   ]
  },
  {
   "cell_type": "code",
   "execution_count": 17,
   "metadata": {},
   "outputs": [],
   "source": [
    "# Define loss function\n",
    "loss_fn = F.mse_loss"
   ]
  },
  {
   "cell_type": "code",
   "execution_count": 18,
   "metadata": {},
   "outputs": [],
   "source": [
    "# Define loss function\n",
    "loss_fn = F.mse_loss"
   ]
  },
  {
   "cell_type": "code",
   "execution_count": 19,
   "metadata": {},
   "outputs": [
    {
     "name": "stdout",
     "output_type": "stream",
     "text": [
      "tensor(8652.7285, grad_fn=<MseLossBackward0>)\n"
     ]
    }
   ],
   "source": [
    "loss = loss_fn(model(inputs), targets)\n",
    "print(loss)"
   ]
  },
  {
   "cell_type": "code",
   "execution_count": 22,
   "metadata": {},
   "outputs": [],
   "source": [
    "# Define optimizer\n",
    "opt = torch.optim.SGD(model.parameters(), lr=1e-5)"
   ]
  },
  {
   "cell_type": "code",
   "execution_count": 23,
   "metadata": {},
   "outputs": [],
   "source": [
    "# Utility function to train the model\n",
    "def fit(num_epochs, model, loss_fn, opt, train_dl):\n",
    "    \n",
    "    # Repeat for given number of epochs\n",
    "    for epoch in range(num_epochs):\n",
    "        \n",
    "        # Train with batches of data\n",
    "        for xb,yb in train_dl:\n",
    "            \n",
    "            # 1. Generate predictions\n",
    "            pred = model(xb)\n",
    "            \n",
    "            # 2. Calculate loss\n",
    "            loss = loss_fn(pred, yb)\n",
    "            \n",
    "            # 3. Compute gradients\n",
    "            loss.backward()\n",
    "            \n",
    "            # 4. Update parameters using gradients\n",
    "            opt.step()\n",
    "            \n",
    "            # 5. Reset the gradients to zero\n",
    "            opt.zero_grad()\n",
    "        \n",
    "        # Print the progress\n",
    "        if (epoch+1) % 10 == 0:\n",
    "            print('Epoch [{}/{}], Loss: {:.4f}'.format(epoch+1, num_epochs, loss.item()))"
   ]
  },
  {
   "cell_type": "code",
   "execution_count": 27,
   "metadata": {},
   "outputs": [
    {
     "name": "stdout",
     "output_type": "stream",
     "text": [
      "Epoch [10/950], Loss: 0.9732\n",
      "Epoch [20/950], Loss: 0.9087\n",
      "Epoch [30/950], Loss: 0.8397\n",
      "Epoch [40/950], Loss: 1.1886\n",
      "Epoch [50/950], Loss: 0.8118\n",
      "Epoch [60/950], Loss: 1.1844\n",
      "Epoch [70/950], Loss: 0.8126\n",
      "Epoch [80/950], Loss: 0.8779\n",
      "Epoch [90/950], Loss: 1.3653\n",
      "Epoch [100/950], Loss: 0.7999\n",
      "Epoch [110/950], Loss: 1.3205\n",
      "Epoch [120/950], Loss: 1.2530\n",
      "Epoch [130/950], Loss: 0.9451\n",
      "Epoch [140/950], Loss: 0.6747\n",
      "Epoch [150/950], Loss: 1.5001\n",
      "Epoch [160/950], Loss: 0.8207\n",
      "Epoch [170/950], Loss: 1.2309\n",
      "Epoch [180/950], Loss: 1.1091\n",
      "Epoch [190/950], Loss: 0.7278\n",
      "Epoch [200/950], Loss: 0.9213\n",
      "Epoch [210/950], Loss: 0.8361\n",
      "Epoch [220/950], Loss: 0.9706\n",
      "Epoch [230/950], Loss: 0.7713\n",
      "Epoch [240/950], Loss: 1.1014\n",
      "Epoch [250/950], Loss: 1.2537\n",
      "Epoch [260/950], Loss: 1.0983\n",
      "Epoch [270/950], Loss: 1.1228\n",
      "Epoch [280/950], Loss: 1.0957\n",
      "Epoch [290/950], Loss: 1.1753\n",
      "Epoch [300/950], Loss: 0.7104\n",
      "Epoch [310/950], Loss: 0.6814\n",
      "Epoch [320/950], Loss: 1.1600\n",
      "Epoch [330/950], Loss: 0.7562\n",
      "Epoch [340/950], Loss: 0.6977\n",
      "Epoch [350/950], Loss: 1.2936\n",
      "Epoch [360/950], Loss: 1.0049\n",
      "Epoch [370/950], Loss: 1.0847\n",
      "Epoch [380/950], Loss: 1.1654\n",
      "Epoch [390/950], Loss: 0.8489\n",
      "Epoch [400/950], Loss: 0.8635\n",
      "Epoch [410/950], Loss: 1.1357\n",
      "Epoch [420/950], Loss: 1.0251\n",
      "Epoch [430/950], Loss: 1.3165\n",
      "Epoch [440/950], Loss: 0.8417\n",
      "Epoch [450/950], Loss: 1.1131\n",
      "Epoch [460/950], Loss: 0.8874\n",
      "Epoch [470/950], Loss: 0.9627\n",
      "Epoch [480/950], Loss: 0.9894\n",
      "Epoch [490/950], Loss: 0.8716\n",
      "Epoch [500/950], Loss: 0.8221\n",
      "Epoch [510/950], Loss: 1.2792\n",
      "Epoch [520/950], Loss: 1.3960\n",
      "Epoch [530/950], Loss: 0.8621\n",
      "Epoch [540/950], Loss: 0.7066\n",
      "Epoch [550/950], Loss: 1.2058\n",
      "Epoch [560/950], Loss: 1.2300\n",
      "Epoch [570/950], Loss: 0.9260\n",
      "Epoch [580/950], Loss: 0.8722\n",
      "Epoch [590/950], Loss: 1.1108\n",
      "Epoch [600/950], Loss: 1.3642\n",
      "Epoch [610/950], Loss: 0.8415\n",
      "Epoch [620/950], Loss: 0.8086\n",
      "Epoch [630/950], Loss: 1.0894\n",
      "Epoch [640/950], Loss: 1.3145\n",
      "Epoch [650/950], Loss: 0.9395\n",
      "Epoch [660/950], Loss: 1.2237\n",
      "Epoch [670/950], Loss: 1.4802\n",
      "Epoch [680/950], Loss: 0.9951\n",
      "Epoch [690/950], Loss: 1.3559\n",
      "Epoch [700/950], Loss: 1.1569\n",
      "Epoch [710/950], Loss: 1.0287\n",
      "Epoch [720/950], Loss: 1.6128\n",
      "Epoch [730/950], Loss: 1.1032\n",
      "Epoch [740/950], Loss: 0.8863\n",
      "Epoch [750/950], Loss: 1.0914\n",
      "Epoch [760/950], Loss: 1.3474\n",
      "Epoch [770/950], Loss: 0.8997\n",
      "Epoch [780/950], Loss: 1.3126\n",
      "Epoch [790/950], Loss: 1.3573\n",
      "Epoch [800/950], Loss: 1.1306\n",
      "Epoch [810/950], Loss: 1.4882\n",
      "Epoch [820/950], Loss: 1.4977\n",
      "Epoch [830/950], Loss: 0.8616\n",
      "Epoch [840/950], Loss: 1.0250\n",
      "Epoch [850/950], Loss: 0.9945\n",
      "Epoch [860/950], Loss: 0.7588\n",
      "Epoch [870/950], Loss: 0.7761\n",
      "Epoch [880/950], Loss: 1.1557\n",
      "Epoch [890/950], Loss: 0.8589\n",
      "Epoch [900/950], Loss: 0.8985\n",
      "Epoch [910/950], Loss: 1.1886\n",
      "Epoch [920/950], Loss: 1.2471\n",
      "Epoch [930/950], Loss: 1.1968\n",
      "Epoch [940/950], Loss: 0.8484\n",
      "Epoch [950/950], Loss: 1.1825\n"
     ]
    }
   ],
   "source": [
    "fit(950, model, loss_fn, opt, train_dl)"
   ]
  },
  {
   "cell_type": "code",
   "execution_count": 28,
   "metadata": {},
   "outputs": [
    {
     "data": {
      "text/plain": [
       "tensor([[ 56.8876,  70.3347],\n",
       "        [ 82.0956, 100.5564],\n",
       "        [118.2084, 132.7854],\n",
       "        [ 20.8367,  37.7497],\n",
       "        [101.8698, 118.4809],\n",
       "        [ 55.6447,  69.2587],\n",
       "        [ 81.9563, 100.6547],\n",
       "        [118.5096, 133.3919],\n",
       "        [ 22.0796,  38.8256],\n",
       "        [102.9734, 119.6551],\n",
       "        [ 56.7483,  70.4330],\n",
       "        [ 80.8527,  99.4804],\n",
       "        [118.3477, 132.6871],\n",
       "        [ 19.7331,  36.5754],\n",
       "        [103.1127, 119.5568]], grad_fn=<AddmmBackward0>)"
      ]
     },
     "execution_count": 28,
     "metadata": {},
     "output_type": "execute_result"
    }
   ],
   "source": [
    "# Generate predictions\n",
    "preds = model(inputs)\n",
    "preds"
   ]
  },
  {
   "cell_type": "code",
   "execution_count": 29,
   "metadata": {},
   "outputs": [
    {
     "data": {
      "text/plain": [
       "tensor([[ 56.,  70.],\n",
       "        [ 81., 101.],\n",
       "        [119., 133.],\n",
       "        [ 22.,  37.],\n",
       "        [103., 119.],\n",
       "        [ 57.,  69.],\n",
       "        [ 80., 102.],\n",
       "        [118., 132.],\n",
       "        [ 21.,  38.],\n",
       "        [104., 118.],\n",
       "        [ 57.,  69.],\n",
       "        [ 82., 100.],\n",
       "        [118., 134.],\n",
       "        [ 20.,  38.],\n",
       "        [102., 120.]])"
      ]
     },
     "execution_count": 29,
     "metadata": {},
     "output_type": "execute_result"
    }
   ],
   "source": [
    "# Compare with targets\n",
    "targets"
   ]
  },
  {
   "cell_type": "code",
   "execution_count": null,
   "metadata": {},
   "outputs": [],
   "source": []
  }
 ],
 "metadata": {
  "interpreter": {
   "hash": "db9eb5fb1af1d6f8869b12a6b01244e400d3232d7d8eefaf0855cb871d79e72f"
  },
  "kernelspec": {
   "display_name": "Python 3.9.13 ('pt-tutorial': venv)",
   "language": "python",
   "name": "python3"
  },
  "language_info": {
   "codemirror_mode": {
    "name": "ipython",
    "version": 3
   },
   "file_extension": ".py",
   "mimetype": "text/x-python",
   "name": "python",
   "nbconvert_exporter": "python",
   "pygments_lexer": "ipython3",
   "version": "3.9.13"
  },
  "orig_nbformat": 4
 },
 "nbformat": 4,
 "nbformat_minor": 2
}
